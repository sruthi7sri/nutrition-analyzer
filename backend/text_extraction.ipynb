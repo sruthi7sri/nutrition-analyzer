{
 "cells": [
  {
   "cell_type": "code",
   "execution_count": 16,
   "id": "42070af9",
   "metadata": {},
   "outputs": [],
   "source": [
    "from PIL import Image, ImageOps\n",
    "\n",
    "# Open the saved image (or use the image object directly from pdf2image)\n",
    "img = Image.open('image1.jpg')\n",
    "\n",
    "# Convert to grayscale and then to black and white\n",
    "gray_img = ImageOps.grayscale(img)\n",
    "bw_img = gray_img.point(lambda x: 0 if x < 128 else 255, '1')\n",
    "\n",
    "# (Optional) Save the preprocessed image for verification\n",
    "bw_img.save('image1.jpg')\n"
   ]
  },
  {
   "cell_type": "code",
   "execution_count": 17,
   "id": "01741b68",
   "metadata": {},
   "outputs": [
    {
     "name": "stdout",
     "output_type": "stream",
     "text": [
      "Extracted Text: Nutrition Facts\n",
      "8 servings per container\n",
      "Serving size 2/3 cup (55g)\n",
      "ee\n",
      "Amount per serving\n",
      "Calories 230\n",
      "% Daily Value*\n",
      "Total Fat 8g 10%\n",
      "Saturated Fat 1g 5%\n",
      "Trang Fat 0g\n",
      "Cholesterol Omg 0%\n",
      "Sodium 160mg 7%\n",
      "Total Carbohydrate 37g 13%\n",
      "Dietary Fiber 4g 14%\n",
      "Total Sugars 12g\n",
      "Includes 10g Added Sugars 20%\n",
      "Protein 3g\n",
      "ee\n",
      "Vitamin D 2meg 10%\n",
      "Calcium 260mg 20%\n",
      "(ron 8mg 45%\n",
      "Potassium 240mg 6%\n",
      "a serving of food contributes to a daily diet. 2,000 calories\n",
      "a day is used for general nutrition advice\n",
      "(For educationat purposes only. These labels do not meet\n",
      "the labeling requirements described in 21 CFR 101.9.)\n",
      "\n"
     ]
    }
   ],
   "source": [
    "import pytesseract\n",
    "\n",
    "# Optional: define custom configuration\n",
    "custom_config = r'--oem 3 --psm 6'\n",
    "\n",
    "# Extract text from the preprocessed image\n",
    "extracted_text = pytesseract.image_to_string(bw_img, config=custom_config)\n",
    "print(\"Extracted Text:\", extracted_text)\n"
   ]
  },
  {
   "cell_type": "code",
   "execution_count": 2,
   "id": "9310e219",
   "metadata": {},
   "outputs": [],
   "source": [
    "import re\n",
    "\n",
    "def check_allergies_extended(product_text: str, user_allergies: list) -> str:\n",
    "    \"\"\"\n",
    "    Checks if the product text contains any allergens based on user input,\n",
    "    including synonyms for each allergen.\n",
    "    \n",
    "    Args:\n",
    "        product_text (str): The extracted nutrition label text.\n",
    "        user_allergies (list of str): List of allergens selected by the user \n",
    "                                      (e.g., ['dairy', 'peanuts', 'gluten']).\n",
    "    \n",
    "    Returns:\n",
    "        str: A warning message if potential allergens are found; otherwise,\n",
    "             a message indicating no allergens detected.\n",
    "    \"\"\"\n",
    "    # Normalize the product text to lowercase.\n",
    "    normalized_text = product_text.lower()\n",
    "\n",
    "    # Mapping from generic allergen names to common synonyms/keywords.\n",
    "    allergy_synonyms = {\n",
    "        \"dairy\": [\"milk\", \"cheese\", \"butter\", \"curd\", \"yogurt\", \"cream\", \"whey\", \"casein\"],\n",
    "        \"peanuts\": [\"peanut\", \"groundnut\", \"arachis\"],\n",
    "        \"gluten\": [\"wheat\", \"barley\", \"rye\", \"oats\", \"gluten\"],\n",
    "        \"soy\": [\"soy\", \"soybean\", \"tofu\", \"edamame\", \"soymilk\"],\n",
    "        \"tree nuts\": [\"almond\", \"cashew\", \"walnut\", \"pecan\", \"hazelnut\", \"pistachio\", \"macadamia\"],\n",
    "        \"egg\": [\"egg\", \"albumin\"],\n",
    "        # Add additional allergens and synonyms as needed.\n",
    "    }\n",
    "\n",
    "    found_allergens = []\n",
    "\n",
    "    # For each user-specified allergen, check for any synonym in the text.\n",
    "    for allergy in user_allergies:\n",
    "        allergy_lower = allergy.lower()\n",
    "        synonyms = allergy_synonyms.get(allergy_lower, [allergy_lower])\n",
    "        \n",
    "        # Use regex with word boundaries to avoid partial matches.\n",
    "        for synonym in synonyms:\n",
    "            if re.search(r'\\b' + re.escape(synonym) + r'\\b', normalized_text):\n",
    "                found_allergens.append(allergy)\n",
    "                break  # Stop checking synonyms once a match is found.\n",
    "\n",
    "    if found_allergens:\n",
    "        return f\"WARNING: The product contains {', '.join(found_allergens)} which may cause an allergic reaction.\"\n",
    "    else:\n",
    "        return \"No allergens detected in the product.\"\n"
   ]
  },
  {
   "cell_type": "code",
   "execution_count": null,
   "id": "f2ada7f4",
   "metadata": {},
   "outputs": [],
   "source": []
  }
 ],
 "metadata": {
  "kernelspec": {
   "display_name": "Python (test)",
   "language": "python",
   "name": "torch_env"
  },
  "language_info": {
   "codemirror_mode": {
    "name": "ipython",
    "version": 3
   },
   "file_extension": ".py",
   "mimetype": "text/x-python",
   "name": "python",
   "nbconvert_exporter": "python",
   "pygments_lexer": "ipython3",
   "version": "3.6.13"
  }
 },
 "nbformat": 4,
 "nbformat_minor": 5
}
